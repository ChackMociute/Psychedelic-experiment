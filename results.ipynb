{
 "cells": [
  {
   "cell_type": "markdown",
   "id": "083ef151-ad07-4d6b-903a-722ec411863a",
   "metadata": {},
   "source": [
    "# Results\n",
    "Displays results from all people who completed the experiments for all doses at which they completed them"
   ]
  },
  {
   "cell_type": "code",
   "execution_count": null,
   "id": "2f49ce0a-a090-48d6-ac98-84c122dd7b55",
   "metadata": {},
   "outputs": [],
   "source": [
    "import os\n",
    "import numpy as np\n",
    "import import_ipynb\n",
    "from experiment import Experiment"
   ]
  },
  {
   "cell_type": "code",
   "execution_count": null,
   "id": "945b013e-8fb0-412a-904a-b94e52a97f67",
   "metadata": {},
   "outputs": [],
   "source": [
    "def get_results(name, doses):\n",
    "    results = []\n",
    "    for dose in doses:\n",
    "        results.append([result for result in\n",
    "                        os.listdir(os.path.join(path, name, dose))\n",
    "                        if not result.startswith('.')])\n",
    "    return results\n",
    "\n",
    "def print_results(name, doses):\n",
    "    for results in np.transpose(get_results(name, doses)):\n",
    "        print(f\"---------------{results[0][:-4]} point tests---------------\".upper())\n",
    "        print(f\"Taken by: {name}\")\n",
    "        for dose, result in zip(doses, results):\n",
    "            print(f\"With {dose}\")\n",
    "            print()\n",
    "            result = os.path.join(path, name, dose, result)\n",
    "            Experiment.from_pickle(result).results(show_incorrect=show_incorrect)\n",
    "            print()\n",
    "\n",
    "def find_doses(name):\n",
    "    doses = [\n",
    "        dose for dose in\n",
    "        os.listdir(os.path.join(path, name))\n",
    "        if not dose.startswith('.')\n",
    "    ]\n",
    "    print_results(name, doses)\n",
    "\n",
    "path = 'results'\n",
    "show_incorrect = False\n",
    "for name in os.listdir(path):\n",
    "    if not name.startswith('.'):\n",
    "        find_doses(name)"
   ]
  }
 ],
 "metadata": {
  "kernelspec": {
   "display_name": "Python 3 (ipykernel)",
   "language": "python",
   "name": "python3"
  },
  "language_info": {
   "codemirror_mode": {
    "name": "ipython",
    "version": 3
   },
   "file_extension": ".py",
   "mimetype": "text/x-python",
   "name": "python",
   "nbconvert_exporter": "python",
   "pygments_lexer": "ipython3",
   "version": "3.10.2"
  }
 },
 "nbformat": 4,
 "nbformat_minor": 5
}
