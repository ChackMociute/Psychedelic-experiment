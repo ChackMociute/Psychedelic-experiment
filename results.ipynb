{
 "cells": [
  {
   "cell_type": "markdown",
   "id": "083ef151-ad07-4d6b-903a-722ec411863a",
   "metadata": {},
   "source": [
    "# Results\n",
    "Displays results from all people who completed the experiments for all doses at which they completed them"
   ]
  },
  {
   "cell_type": "code",
   "execution_count": null,
   "id": "2f49ce0a-a090-48d6-ac98-84c122dd7b55",
   "metadata": {},
   "outputs": [],
   "source": [
    "import os\n",
    "import import_ipynb\n",
    "from experiment import Experiment"
   ]
  },
  {
   "cell_type": "code",
   "execution_count": null,
   "id": "945b013e-8fb0-412a-904a-b94e52a97f67",
   "metadata": {},
   "outputs": [],
   "source": [
    "def print_results(path, name, dose):\n",
    "    for result in os.listdir(os.path.join(path, name, dose)):\n",
    "        if not result.startswith('.'):\n",
    "            print(f\"---------------{result[:-4]} point tests---------------\".upper())\n",
    "            print(f\"Taken by: {name}\")\n",
    "            print(f\"With {dose}\")\n",
    "            print()\n",
    "            result = os.path.join(path, name, dose, result)\n",
    "            Experiment.from_pickle(result).results()\n",
    "\n",
    "def find_doses(path, name):\n",
    "    for dose in os.listdir(os.path.join(path, name)):\n",
    "        if not dose.startswith('.'):\n",
    "            print_results(path, name, dose)\n",
    "\n",
    "path = 'results'\n",
    "for name in os.listdir(path):\n",
    "    if not name.startswith('.'):\n",
    "        find_doses(path, name)"
   ]
  }
 ],
 "metadata": {
  "kernelspec": {
   "display_name": "Python 3 (ipykernel)",
   "language": "python",
   "name": "python3"
  },
  "language_info": {
   "codemirror_mode": {
    "name": "ipython",
    "version": 3
   },
   "file_extension": ".py",
   "mimetype": "text/x-python",
   "name": "python",
   "nbconvert_exporter": "python",
   "pygments_lexer": "ipython3",
   "version": "3.10.3"
  }
 },
 "nbformat": 4,
 "nbformat_minor": 5
}
