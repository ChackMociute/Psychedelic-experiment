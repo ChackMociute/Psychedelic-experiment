{
 "cells": [
  {
   "cell_type": "code",
   "execution_count": 1,
   "id": "5b3c16a8-6713-4ee6-8a07-ffaab2e772d7",
   "metadata": {},
   "outputs": [
    {
     "name": "stdout",
     "output_type": "stream",
     "text": [
      "importing Jupyter notebook from experiment.ipynb\n"
     ]
    }
   ],
   "source": [
    "import os\n",
    "import import_ipynb\n",
    "from experiment import Experiment"
   ]
  },
  {
   "cell_type": "code",
   "execution_count": 2,
   "id": "d355ea63-0424-4a76-b261-dbbc6efded4c",
   "metadata": {},
   "outputs": [
    {
     "name": "stdout",
     "output_type": "stream",
     "text": [
      "Your name:\n"
     ]
    },
    {
     "name": "stdin",
     "output_type": "stream",
     "text": [
      " Martynas\n"
     ]
    },
    {
     "name": "stdout",
     "output_type": "stream",
     "text": [
      "Dose: (0 if sober)\n"
     ]
    },
    {
     "name": "stdin",
     "output_type": "stream",
     "text": [
      " 0\n"
     ]
    }
   ],
   "source": [
    "print(\"Your name:\")\n",
    "name = input()\n",
    "print(\"Dose: (0 if sober)\")\n",
    "dose = input()\n",
    "path = os.path.join(\"results\", name, f\"{dose} dose\")\n",
    "experiments = []"
   ]
  },
  {
   "cell_type": "code",
   "execution_count": 3,
   "id": "1fb4811a-d15b-4b23-bf8d-9ae810f8152c",
   "metadata": {},
   "outputs": [
    {
     "data": {
      "application/vnd.jupyter.widget-view+json": {
       "model_id": "9d510e96d75c4129b0420332a174fa33",
       "version_major": 2,
       "version_minor": 0
      },
      "text/plain": [
       "Output()"
      ]
     },
     "metadata": {},
     "output_type": "display_data"
    },
    {
     "data": {
      "application/vnd.jupyter.widget-view+json": {
       "model_id": "aca2923a73d14fae90e8956bb55635b4",
       "version_major": 2,
       "version_minor": 0
      },
      "text/plain": [
       "Button(description='Begin', style=ButtonStyle())"
      ]
     },
     "metadata": {},
     "output_type": "display_data"
    }
   ],
   "source": [
    "e = Experiment(mode='single')\n",
    "experiments.append(e)\n",
    "e.start()"
   ]
  },
  {
   "cell_type": "code",
   "execution_count": 4,
   "id": "05dd27e8-101c-4b67-841d-af65097674f7",
   "metadata": {},
   "outputs": [
    {
     "data": {
      "application/vnd.jupyter.widget-view+json": {
       "model_id": "e4873022b85446f3903d5b6d5826b14b",
       "version_major": 2,
       "version_minor": 0
      },
      "text/plain": [
       "Output()"
      ]
     },
     "metadata": {},
     "output_type": "display_data"
    },
    {
     "data": {
      "application/vnd.jupyter.widget-view+json": {
       "model_id": "b8fb06e972a14bbaaed90818ba07cd26",
       "version_major": 2,
       "version_minor": 0
      },
      "text/plain": [
       "Button(description='Begin', style=ButtonStyle())"
      ]
     },
     "metadata": {},
     "output_type": "display_data"
    }
   ],
   "source": [
    "e = Experiment(mode='multiple')\n",
    "experiments.append(e)\n",
    "e.start()"
   ]
  },
  {
   "cell_type": "code",
   "execution_count": 5,
   "id": "ec668a05-5842-4325-b9f9-9aa931b2e71f",
   "metadata": {},
   "outputs": [
    {
     "data": {
      "application/vnd.jupyter.widget-view+json": {
       "model_id": "aa3c73d9a5294dc5af5b5bc9d75d4c0d",
       "version_major": 2,
       "version_minor": 0
      },
      "text/plain": [
       "Output()"
      ]
     },
     "metadata": {},
     "output_type": "display_data"
    },
    {
     "data": {
      "application/vnd.jupyter.widget-view+json": {
       "model_id": "bbd75120436148acbbdaf0f155ae39d0",
       "version_major": 2,
       "version_minor": 0
      },
      "text/plain": [
       "Button(description='Begin', style=ButtonStyle())"
      ]
     },
     "metadata": {},
     "output_type": "display_data"
    }
   ],
   "source": [
    "e = Experiment(mode='invisible')\n",
    "experiments.append(e)\n",
    "e.start()"
   ]
  },
  {
   "cell_type": "code",
   "execution_count": 6,
   "id": "ec2bd421-af02-4090-8c96-8adb0b9695ed",
   "metadata": {},
   "outputs": [
    {
     "data": {
      "application/vnd.jupyter.widget-view+json": {
       "model_id": "9538ff99370c4fadabd30d07bdf30c03",
       "version_major": 2,
       "version_minor": 0
      },
      "text/plain": [
       "Output()"
      ]
     },
     "metadata": {},
     "output_type": "display_data"
    },
    {
     "data": {
      "application/vnd.jupyter.widget-view+json": {
       "model_id": "ff713671b4b146f78cbee12c8a513e3f",
       "version_major": 2,
       "version_minor": 0
      },
      "text/plain": [
       "Button(description='Begin', style=ButtonStyle())"
      ]
     },
     "metadata": {},
     "output_type": "display_data"
    }
   ],
   "source": [
    "e = Experiment(mode='mixed')\n",
    "experiments.append(e)\n",
    "e.start()"
   ]
  },
  {
   "cell_type": "code",
   "execution_count": 7,
   "id": "fb7dd25f-3d70-424d-82c6-ba109c1a9754",
   "metadata": {},
   "outputs": [],
   "source": [
    "for e in experiments:\n",
    "    e.pickle(path)"
   ]
  }
 ],
 "metadata": {
  "kernelspec": {
   "display_name": "Python 3 (ipykernel)",
   "language": "python",
   "name": "python3"
  },
  "language_info": {
   "codemirror_mode": {
    "name": "ipython",
    "version": 3
   },
   "file_extension": ".py",
   "mimetype": "text/x-python",
   "name": "python",
   "nbconvert_exporter": "python",
   "pygments_lexer": "ipython3",
   "version": "3.10.2"
  }
 },
 "nbformat": 4,
 "nbformat_minor": 5
}
