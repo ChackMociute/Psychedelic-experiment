{
 "cells": [
  {
   "cell_type": "markdown",
   "id": "758f6a61-ec14-4172-b112-728a5197c368",
   "metadata": {},
   "source": [
    "# Experiment\n",
    "Different experiment configurations are set up and saved for analysis"
   ]
  },
  {
   "cell_type": "code",
   "execution_count": 1,
   "id": "5b3c16a8-6713-4ee6-8a07-ffaab2e772d7",
   "metadata": {},
   "outputs": [
    {
     "name": "stdout",
     "output_type": "stream",
     "text": [
      "importing Jupyter notebook from experiment.ipynb\n"
     ]
    }
   ],
   "source": [
    "import os\n",
    "import import_ipynb\n",
    "from experiment import Experiment"
   ]
  },
  {
   "cell_type": "code",
   "execution_count": 2,
   "id": "d355ea63-0424-4a76-b261-dbbc6efded4c",
   "metadata": {},
   "outputs": [
    {
     "name": "stdout",
     "output_type": "stream",
     "text": [
      "Your name:\n"
     ]
    },
    {
     "name": "stdin",
     "output_type": "stream",
     "text": [
      " Bouke\n"
     ]
    },
    {
     "name": "stdout",
     "output_type": "stream",
     "text": [
      "Dose: (0 if sober)\n"
     ]
    },
    {
     "name": "stdin",
     "output_type": "stream",
     "text": [
      " 1\n"
     ]
    }
   ],
   "source": [
    "print(\"Your name:\")\n",
    "name = input()\n",
    "print(\"Dose: (0 if sober)\")\n",
    "dose = input()\n",
    "path = os.path.join(\"results\", name, f\"{dose} dose\")\n",
    "experiments = []"
   ]
  },
  {
   "cell_type": "markdown",
   "id": "46850843-3d19-411d-83e0-d97d11ea81cc",
   "metadata": {},
   "source": [
    "## Running the experiment\n",
    "To add a different experiment use the cell below as a template"
   ]
  },
  {
   "cell_type": "code",
   "execution_count": 3,
   "id": "1fb4811a-d15b-4b23-bf8d-9ae810f8152c",
   "metadata": {},
   "outputs": [
    {
     "data": {
      "application/vnd.jupyter.widget-view+json": {
       "model_id": "00768d4657dc41d1bd06167ce1e2c5bb",
       "version_major": 2,
       "version_minor": 0
      },
      "text/plain": [
       "Output()"
      ]
     },
     "metadata": {},
     "output_type": "display_data"
    },
    {
     "data": {
      "application/vnd.jupyter.widget-view+json": {
       "model_id": "3d74f81550cb4fb7a0c956734ce77b40",
       "version_major": 2,
       "version_minor": 0
      },
      "text/plain": [
       "Button(description='Begin', layout=Layout(height='2cm', width='10cm'), style=ButtonStyle())"
      ]
     },
     "metadata": {},
     "output_type": "display_data"
    }
   ],
   "source": [
    "e = Experiment(mode='single')\n",
    "experiments.append(e)\n",
    "e.start()"
   ]
  },
  {
   "cell_type": "code",
   "execution_count": 4,
   "id": "05dd27e8-101c-4b67-841d-af65097674f7",
   "metadata": {},
   "outputs": [
    {
     "data": {
      "application/vnd.jupyter.widget-view+json": {
       "model_id": "e77c121516a64fbca42945ad24934058",
       "version_major": 2,
       "version_minor": 0
      },
      "text/plain": [
       "Output()"
      ]
     },
     "metadata": {},
     "output_type": "display_data"
    },
    {
     "data": {
      "application/vnd.jupyter.widget-view+json": {
       "model_id": "4abdad97dc974a15b5d5284719ccc7d2",
       "version_major": 2,
       "version_minor": 0
      },
      "text/plain": [
       "Button(description='Begin', layout=Layout(height='2cm', width='10cm'), style=ButtonStyle())"
      ]
     },
     "metadata": {},
     "output_type": "display_data"
    }
   ],
   "source": [
    "e = Experiment(mode='multiple')\n",
    "experiments.append(e)\n",
    "e.start()"
   ]
  },
  {
   "cell_type": "code",
   "execution_count": 5,
   "id": "ec668a05-5842-4325-b9f9-9aa931b2e71f",
   "metadata": {},
   "outputs": [
    {
     "data": {
      "application/vnd.jupyter.widget-view+json": {
       "model_id": "20e9e987d5864a24879378daa22b3dcc",
       "version_major": 2,
       "version_minor": 0
      },
      "text/plain": [
       "Output()"
      ]
     },
     "metadata": {},
     "output_type": "display_data"
    },
    {
     "data": {
      "application/vnd.jupyter.widget-view+json": {
       "model_id": "c56aefc730404899b75cdf22f537ba81",
       "version_major": 2,
       "version_minor": 0
      },
      "text/plain": [
       "Button(description='Begin', layout=Layout(height='2cm', width='10cm'), style=ButtonStyle())"
      ]
     },
     "metadata": {},
     "output_type": "display_data"
    }
   ],
   "source": [
    "e = Experiment(mode='invisible')\n",
    "experiments.append(e)\n",
    "e.start()"
   ]
  },
  {
   "cell_type": "code",
   "execution_count": 6,
   "id": "ec2bd421-af02-4090-8c96-8adb0b9695ed",
   "metadata": {},
   "outputs": [
    {
     "data": {
      "application/vnd.jupyter.widget-view+json": {
       "model_id": "3bd60aa8e64f464081ef51034bbf14bf",
       "version_major": 2,
       "version_minor": 0
      },
      "text/plain": [
       "Output()"
      ]
     },
     "metadata": {},
     "output_type": "display_data"
    },
    {
     "data": {
      "application/vnd.jupyter.widget-view+json": {
       "model_id": "f398f2497c774b28a6a1b5c643910dd7",
       "version_major": 2,
       "version_minor": 0
      },
      "text/plain": [
       "Button(description='Begin', layout=Layout(height='2cm', width='10cm'), style=ButtonStyle())"
      ]
     },
     "metadata": {},
     "output_type": "display_data"
    }
   ],
   "source": [
    "e = Experiment(mode='mixed')\n",
    "experiments.append(e)\n",
    "e.start()"
   ]
  },
  {
   "cell_type": "code",
   "execution_count": 7,
   "id": "5d8509d1-9239-456b-86b1-dba4bb5590fd",
   "metadata": {},
   "outputs": [
    {
     "data": {
      "application/vnd.jupyter.widget-view+json": {
       "model_id": "3169eb7c1dab4f2fb70cac94a09cfc17",
       "version_major": 2,
       "version_minor": 0
      },
      "text/plain": [
       "Output()"
      ]
     },
     "metadata": {},
     "output_type": "display_data"
    },
    {
     "data": {
      "application/vnd.jupyter.widget-view+json": {
       "model_id": "703f7b046c894cb79aa3713c408155aa",
       "version_major": 2,
       "version_minor": 0
      },
      "text/plain": [
       "Button(description='Begin', layout=Layout(height='2cm', width='10cm'), style=ButtonStyle())"
      ]
     },
     "metadata": {},
     "output_type": "display_data"
    }
   ],
   "source": [
    "e = Experiment(mode='multiple', multiple=True)\n",
    "experiments.append(e)\n",
    "e.start()"
   ]
  },
  {
   "cell_type": "code",
   "execution_count": 8,
   "id": "7fd99a7d-abcb-40b8-8c46-a680b9655613",
   "metadata": {},
   "outputs": [
    {
     "data": {
      "application/vnd.jupyter.widget-view+json": {
       "model_id": "1fdf355be7d84f5d97ea1be13c4e4093",
       "version_major": 2,
       "version_minor": 0
      },
      "text/plain": [
       "Output()"
      ]
     },
     "metadata": {},
     "output_type": "display_data"
    },
    {
     "data": {
      "application/vnd.jupyter.widget-view+json": {
       "model_id": "f2d84e39f70c4cfbaac8932eb1fd0c30",
       "version_major": 2,
       "version_minor": 0
      },
      "text/plain": [
       "Button(description='Begin', layout=Layout(height='2cm', width='10cm'), style=ButtonStyle())"
      ]
     },
     "metadata": {},
     "output_type": "display_data"
    }
   ],
   "source": [
    "e = Experiment(mode='invisible', multiple=True)\n",
    "experiments.append(e)\n",
    "e.start()"
   ]
  },
  {
   "cell_type": "code",
   "execution_count": 9,
   "id": "942277cc-cce7-484e-b0e3-44f76cad4e5c",
   "metadata": {},
   "outputs": [
    {
     "data": {
      "application/vnd.jupyter.widget-view+json": {
       "model_id": "749937d89ede4c278a6fcc8810bfdf8b",
       "version_major": 2,
       "version_minor": 0
      },
      "text/plain": [
       "Output()"
      ]
     },
     "metadata": {},
     "output_type": "display_data"
    },
    {
     "data": {
      "application/vnd.jupyter.widget-view+json": {
       "model_id": "7e83080eb31046a1b04ec7b86a827a06",
       "version_major": 2,
       "version_minor": 0
      },
      "text/plain": [
       "Button(description='Begin', layout=Layout(height='2cm', width='10cm'), style=ButtonStyle())"
      ]
     },
     "metadata": {},
     "output_type": "display_data"
    }
   ],
   "source": [
    "e = Experiment(mode='mixed', multiple=True)\n",
    "experiments.append(e)\n",
    "e.start()"
   ]
  },
  {
   "cell_type": "markdown",
   "id": "c8d21147-1cc0-4657-80f5-66d5fc5d49b5",
   "metadata": {},
   "source": [
    "## Save the results"
   ]
  },
  {
   "cell_type": "code",
   "execution_count": null,
   "id": "fb7dd25f-3d70-424d-82c6-ba109c1a9754",
   "metadata": {},
   "outputs": [],
   "source": [
    "for e in experiments:\n",
    "    e.pickle(path)"
   ]
  }
 ],
 "metadata": {
  "kernelspec": {
   "display_name": "Python 3 (ipykernel)",
   "language": "python",
   "name": "python3"
  },
  "language_info": {
   "codemirror_mode": {
    "name": "ipython",
    "version": 3
   },
   "file_extension": ".py",
   "mimetype": "text/x-python",
   "name": "python",
   "nbconvert_exporter": "python",
   "pygments_lexer": "ipython3",
   "version": "3.10.2"
  }
 },
 "nbformat": 4,
 "nbformat_minor": 5
}
