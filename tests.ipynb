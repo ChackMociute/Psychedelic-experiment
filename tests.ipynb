{
 "cells": [
  {
   "cell_type": "code",
   "execution_count": 5,
   "id": "5b3c16a8-6713-4ee6-8a07-ffaab2e772d7",
   "metadata": {},
   "outputs": [],
   "source": [
    "import pickle\n",
    "import import_ipynb\n",
    "from experiment import Experiment"
   ]
  },
  {
   "cell_type": "code",
   "execution_count": 6,
   "id": "c22663dc-82d7-4ea5-82e2-489c4dae598b",
   "metadata": {},
   "outputs": [],
   "source": [
    "path = \"results/object.pkl\""
   ]
  },
  {
   "cell_type": "code",
   "execution_count": 7,
   "id": "1fb4811a-d15b-4b23-bf8d-9ae810f8152c",
   "metadata": {},
   "outputs": [
    {
     "data": {
      "application/vnd.jupyter.widget-view+json": {
       "model_id": "8184915984e54f6c8901acdb79861319",
       "version_major": 2,
       "version_minor": 0
      },
      "text/plain": [
       "Output()"
      ]
     },
     "metadata": {},
     "output_type": "display_data"
    },
    {
     "data": {
      "application/vnd.jupyter.widget-view+json": {
       "model_id": "61628b3e2cb04f51b4337e98e4450a71",
       "version_major": 2,
       "version_minor": 0
      },
      "text/plain": [
       "Button(description='Begin', style=ButtonStyle())"
      ]
     },
     "metadata": {},
     "output_type": "display_data"
    }
   ],
   "source": [
    "e = Experiment(mode='multiple')\n",
    "e.start()"
   ]
  },
  {
   "cell_type": "code",
   "execution_count": 8,
   "id": "fb7dd25f-3d70-424d-82c6-ba109c1a9754",
   "metadata": {},
   "outputs": [],
   "source": [
    "e.pickle(path)"
   ]
  }
 ],
 "metadata": {
  "kernelspec": {
   "display_name": "Python 3 (ipykernel)",
   "language": "python",
   "name": "python3"
  },
  "language_info": {
   "codemirror_mode": {
    "name": "ipython",
    "version": 3
   },
   "file_extension": ".py",
   "mimetype": "text/x-python",
   "name": "python",
   "nbconvert_exporter": "python",
   "pygments_lexer": "ipython3",
   "version": "3.10.2"
  }
 },
 "nbformat": 4,
 "nbformat_minor": 5
}
