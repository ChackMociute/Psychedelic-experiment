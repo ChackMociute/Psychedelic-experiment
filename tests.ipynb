{
 "cells": [
  {
   "cell_type": "markdown",
   "id": "758f6a61-ec14-4172-b112-728a5197c368",
   "metadata": {},
   "source": [
    "# Experiment\n",
    "Different experiment configurations are set up and saved for analysis"
   ]
  },
  {
   "cell_type": "code",
   "execution_count": null,
   "id": "5b3c16a8-6713-4ee6-8a07-ffaab2e772d7",
   "metadata": {},
   "outputs": [],
   "source": [
    "import os\n",
    "import import_ipynb\n",
    "from experiment import Experiment"
   ]
  },
  {
   "cell_type": "code",
   "execution_count": null,
   "id": "d355ea63-0424-4a76-b261-dbbc6efded4c",
   "metadata": {},
   "outputs": [],
   "source": [
    "print(\"Your name:\")\n",
    "name = input()\n",
    "print(\"Dose: (0 if sober)\")\n",
    "dose = input()\n",
    "path = os.path.join(\"results\", name, f\"{dose} dose\")\n",
    "experiments = []"
   ]
  },
  {
   "cell_type": "markdown",
   "id": "46850843-3d19-411d-83e0-d97d11ea81cc",
   "metadata": {},
   "source": [
    "## Running the experiment\n",
    "To add a different experiment use the cell below as a template"
   ]
  },
  {
   "cell_type": "code",
   "execution_count": null,
   "id": "1fb4811a-d15b-4b23-bf8d-9ae810f8152c",
   "metadata": {},
   "outputs": [],
   "source": [
    "e = Experiment(mode='single')\n",
    "experiments.append(e)\n",
    "e.start()"
   ]
  },
  {
   "cell_type": "code",
   "execution_count": null,
   "id": "05dd27e8-101c-4b67-841d-af65097674f7",
   "metadata": {},
   "outputs": [],
   "source": [
    "e = Experiment(mode='multiple')\n",
    "experiments.append(e)\n",
    "e.start()"
   ]
  },
  {
   "cell_type": "code",
   "execution_count": null,
   "id": "ec668a05-5842-4325-b9f9-9aa931b2e71f",
   "metadata": {},
   "outputs": [],
   "source": [
    "e = Experiment(mode='invisible')\n",
    "experiments.append(e)\n",
    "e.start()"
   ]
  },
  {
   "cell_type": "code",
   "execution_count": null,
   "id": "be2e65c4-95fa-4f7d-b7a6-cf4c38aaad1c",
   "metadata": {},
   "outputs": [],
   "source": [
    "experiments[2].results(show_incorrect=True)"
   ]
  },
  {
   "cell_type": "code",
   "execution_count": null,
   "id": "ec2bd421-af02-4090-8c96-8adb0b9695ed",
   "metadata": {},
   "outputs": [],
   "source": [
    "e = Experiment(mode='mixed')\n",
    "experiments.append(e)\n",
    "e.start()"
   ]
  },
  {
   "cell_type": "code",
   "execution_count": null,
   "id": "5d8509d1-9239-456b-86b1-dba4bb5590fd",
   "metadata": {},
   "outputs": [],
   "source": [
    "e = Experiment(mode='multiple', multiple=True)\n",
    "experiments.append(e)\n",
    "e.start()"
   ]
  },
  {
   "cell_type": "code",
   "execution_count": null,
   "id": "7fd99a7d-abcb-40b8-8c46-a680b9655613",
   "metadata": {},
   "outputs": [],
   "source": [
    "e = Experiment(mode='invisible', multiple=True)\n",
    "experiments.append(e)\n",
    "e.start()"
   ]
  },
  {
   "cell_type": "code",
   "execution_count": null,
   "id": "942277cc-cce7-484e-b0e3-44f76cad4e5c",
   "metadata": {},
   "outputs": [],
   "source": [
    "e = Experiment(mode='mixed', multiple=True)\n",
    "experiments.append(e)\n",
    "e.start()"
   ]
  },
  {
   "cell_type": "markdown",
   "id": "c8d21147-1cc0-4657-80f5-66d5fc5d49b5",
   "metadata": {},
   "source": [
    "## Save the results"
   ]
  },
  {
   "cell_type": "code",
   "execution_count": null,
   "id": "fb7dd25f-3d70-424d-82c6-ba109c1a9754",
   "metadata": {},
   "outputs": [],
   "source": [
    "for e in experiments:\n",
    "    e.pickle(path)"
   ]
  }
 ],
 "metadata": {
  "kernelspec": {
   "display_name": "Python 3 (ipykernel)",
   "language": "python",
   "name": "python3"
  },
  "language_info": {
   "codemirror_mode": {
    "name": "ipython",
    "version": 3
   },
   "file_extension": ".py",
   "mimetype": "text/x-python",
   "name": "python",
   "nbconvert_exporter": "python",
   "pygments_lexer": "ipython3",
   "version": "3.10.2"
  }
 },
 "nbformat": 4,
 "nbformat_minor": 5
}
