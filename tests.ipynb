{
 "cells": [
  {
   "cell_type": "code",
   "execution_count": 1,
   "id": "5b3c16a8-6713-4ee6-8a07-ffaab2e772d7",
   "metadata": {},
   "outputs": [
    {
     "name": "stdout",
     "output_type": "stream",
     "text": [
      "importing Jupyter notebook from experiment.ipynb\n"
     ]
    }
   ],
   "source": [
    "import os\n",
    "import import_ipynb\n",
    "from experiment import Experiment"
   ]
  },
  {
   "cell_type": "code",
   "execution_count": 2,
   "id": "d355ea63-0424-4a76-b261-dbbc6efded4c",
   "metadata": {},
   "outputs": [
    {
     "name": "stdout",
     "output_type": "stream",
     "text": [
      "Your name:\n"
     ]
    },
    {
     "name": "stdin",
     "output_type": "stream",
     "text": [
      " Martynas\n"
     ]
    },
    {
     "name": "stdout",
     "output_type": "stream",
     "text": [
      "Dose: (0 if sober)\n"
     ]
    },
    {
     "name": "stdin",
     "output_type": "stream",
     "text": [
      " 0\n"
     ]
    }
   ],
   "source": [
    "print(\"Your name:\")\n",
    "name = input()\n",
    "print(\"Dose: (0 if sober)\")\n",
    "dose = input()\n",
    "path = os.path.join(\"results\", name, f\"{dose} dose\")\n",
    "experiments = []"
   ]
  },
  {
   "cell_type": "code",
   "execution_count": 3,
   "id": "1fb4811a-d15b-4b23-bf8d-9ae810f8152c",
   "metadata": {},
   "outputs": [
    {
     "data": {
      "application/vnd.jupyter.widget-view+json": {
       "model_id": "f06db870a71c4947bd1f2a41ea9ebdcd",
       "version_major": 2,
       "version_minor": 0
      },
      "text/plain": [
       "Output()"
      ]
     },
     "metadata": {},
     "output_type": "display_data"
    },
    {
     "data": {
      "application/vnd.jupyter.widget-view+json": {
       "model_id": "08445d1c26754a2c81b2c8d82523f15f",
       "version_major": 2,
       "version_minor": 0
      },
      "text/plain": [
       "Button(description='Begin', style=ButtonStyle())"
      ]
     },
     "metadata": {},
     "output_type": "display_data"
    }
   ],
   "source": [
    "e = Experiment(mode='single')\n",
    "experiments.append(e)\n",
    "e.start()"
   ]
  },
  {
   "cell_type": "code",
   "execution_count": 4,
   "id": "05dd27e8-101c-4b67-841d-af65097674f7",
   "metadata": {},
   "outputs": [
    {
     "data": {
      "application/vnd.jupyter.widget-view+json": {
       "model_id": "339b92642c9a497ab41c0b83d5c4976d",
       "version_major": 2,
       "version_minor": 0
      },
      "text/plain": [
       "Output()"
      ]
     },
     "metadata": {},
     "output_type": "display_data"
    },
    {
     "data": {
      "application/vnd.jupyter.widget-view+json": {
       "model_id": "415da8ed726c4a6f981cd6fad4ce6923",
       "version_major": 2,
       "version_minor": 0
      },
      "text/plain": [
       "Button(description='Begin', style=ButtonStyle())"
      ]
     },
     "metadata": {},
     "output_type": "display_data"
    }
   ],
   "source": [
    "e = Experiment(mode='multiple')\n",
    "experiments.append(e)\n",
    "e.start()"
   ]
  },
  {
   "cell_type": "code",
   "execution_count": 5,
   "id": "ec668a05-5842-4325-b9f9-9aa931b2e71f",
   "metadata": {},
   "outputs": [
    {
     "data": {
      "application/vnd.jupyter.widget-view+json": {
       "model_id": "37de1e347fc549888102c7f2a548b32c",
       "version_major": 2,
       "version_minor": 0
      },
      "text/plain": [
       "Output()"
      ]
     },
     "metadata": {},
     "output_type": "display_data"
    },
    {
     "data": {
      "application/vnd.jupyter.widget-view+json": {
       "model_id": "97ef933be5534041a2cb73b3e19be5e0",
       "version_major": 2,
       "version_minor": 0
      },
      "text/plain": [
       "Button(description='Begin', style=ButtonStyle())"
      ]
     },
     "metadata": {},
     "output_type": "display_data"
    }
   ],
   "source": [
    "e = Experiment(mode='invisible')\n",
    "experiments.append(e)\n",
    "e.start()"
   ]
  },
  {
   "cell_type": "code",
   "execution_count": 6,
   "id": "fb7dd25f-3d70-424d-82c6-ba109c1a9754",
   "metadata": {},
   "outputs": [],
   "source": [
    "for e in experiments:\n",
    "    e.pickle(path)"
   ]
  }
 ],
 "metadata": {
  "kernelspec": {
   "display_name": "Python 3 (ipykernel)",
   "language": "python",
   "name": "python3"
  },
  "language_info": {
   "codemirror_mode": {
    "name": "ipython",
    "version": 3
   },
   "file_extension": ".py",
   "mimetype": "text/x-python",
   "name": "python",
   "nbconvert_exporter": "python",
   "pygments_lexer": "ipython3",
   "version": "3.10.2"
  }
 },
 "nbformat": 4,
 "nbformat_minor": 5
}
