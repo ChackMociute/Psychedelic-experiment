{
 "cells": [
  {
   "cell_type": "markdown",
   "id": "273f3192-b7ac-4d8e-8e94-6950232c26b3",
   "metadata": {},
   "source": [
    "# Visual experiment tests"
   ]
  },
  {
   "cell_type": "code",
   "execution_count": 1,
   "id": "0a179275-2f74-427d-9124-6477231cf6ad",
   "metadata": {},
   "outputs": [],
   "source": [
    "import numpy as np\n",
    "import ipywidgets as wd\n",
    "import matplotlib.pyplot as plt\n",
    "from IPython.display import clear_output\n",
    "from enum import Enum, unique, auto"
   ]
  },
  {
   "cell_type": "code",
   "execution_count": 2,
   "id": "df140b46-74be-44d7-8806-9cf8844dc0af",
   "metadata": {},
   "outputs": [],
   "source": [
    "@unique\n",
    "class Shape(Enum):\n",
    "    TRIANGLE = 'triangle'\n",
    "    RECTANGLE = 'rectangle'\n",
    "    NOTHING = 'nothing'\n",
    "    \n",
    "    def get_shape(self):\n",
    "        methods = {\n",
    "            'triangle':self.get_triangle,\n",
    "            'rectangle':self.get_rectangle,\n",
    "            'nothing':self.get_nothing\n",
    "        }\n",
    "        return methods[self.value]\n",
    "    \n",
    "    @staticmethod\n",
    "    def get_line():\n",
    "        x = np.random.rand(2, 2)\n",
    "        while(np.linalg.norm(x[:,0]-x[:,1]) < .3):\n",
    "            x = np.random.rand(2, 2)\n",
    "        return x\n",
    "    \n",
    "    @staticmethod\n",
    "    def get_orthogonal(x):\n",
    "        x_m = np.linalg.norm(x)\n",
    "        y = np.random.rand(2)\n",
    "        y = y - np.dot(x/x_m, y) * x/x_m\n",
    "        return y/np.linalg.norm(y)\n",
    "    \n",
    "    def get_rectangle(self):\n",
    "        x = self.get_line()\n",
    "        y = self.get_orthogonal(x[:,0]-x[:,1])*(np.random.rand(1)/2+0.3)\n",
    "        y1, y2 = (x[:,0]+y).reshape(-1, 1), (x[:,1]+y).reshape(-1, 1)\n",
    "        x = np.concatenate([y1, x, y2], axis=1)\n",
    "        return x\n",
    "    \n",
    "    def get_triangle(self):\n",
    "        x = self.get_line()\n",
    "        y = self.get_orthogonal(x[:,0]-x[:,1])*(np.random.rand(1)/2+0.3)\n",
    "        y = (x[:,0]+x[:,1])/2 + y\n",
    "        x = np.append(x, y.reshape(2, 1), axis=1)\n",
    "        return x\n",
    "    \n",
    "    def get_nothing(self):\n",
    "        return np.asarray([[], []])\n",
    "\n",
    "\n",
    "\n",
    "class ShapeManager():\n",
    "    def __init__(self, shape=(12,9), s=60, a=0.6, color='b', size=300):\n",
    "        self.shapes = list(Shape)\n",
    "        self.figsize = shape\n",
    "        self.s, self.a, self.color = s, a, color\n",
    "        self.num_of_points = size\n",
    "        self.generated_shapes = np.asarray([])\n",
    "        self.guessed_shapes = np.asarray([])\n",
    "        self.incorrect = []\n",
    "        self.show_lines = False\n",
    "    \n",
    "    # Method used to create a scatter plot of random points with hidden shape\n",
    "    def create_shape(self):\n",
    "        shape = self.choose_shape()\n",
    "        for s in self.shapes:\n",
    "            if s == shape:\n",
    "                x = self.generate_points(shape.get_shape())\n",
    "        noise = np.random.rand(2, self.num_of_points)\n",
    "        self.plot_figure(noise, x)\n",
    "        self.incorrect.append({'noise':noise, 'fig':x, 'real':shape.value})\n",
    "        self.generated_shapes = np.append(self.generated_shapes, shape)\n",
    "    \n",
    "    def choose_shape(self): \n",
    "        return self.shapes[np.random.randint(0, len(self.shapes))]\n",
    "    \n",
    "    # Makes sure none of the points constituting the shape are too close to the edge\n",
    "    def generate_points(self, func):\n",
    "        x = func()\n",
    "        while any(x.reshape(-1) > .9) or any(x.reshape(-1) < .1):\n",
    "            x = func()\n",
    "        return x\n",
    "    \n",
    "    def add_answer(self, answer):\n",
    "        # If correct, remove from incorrect guess list\n",
    "        if answer == self.generated_shapes[-1]: self.incorrect.pop()\n",
    "        else: self.incorrect[-1]['guess'] = answer.value\n",
    "        self.guessed_shapes = np.append(self.guessed_shapes, answer)\n",
    "    \n",
    "    def get_score(self):\n",
    "        if len(self.guessed_shapes) > 0:\n",
    "            return sum(self.generated_shapes[:-1] == self.guessed_shapes)/len(self.guessed_shapes)\n",
    "        return 0\n",
    "    \n",
    "    def clear_score(self):\n",
    "        self.generated_shapes = np.asarray([self.generated_shapes[-1]])\n",
    "        self.guessed_shapes = np.asarray([])\n",
    "        self.incorrect = [self.incorrect[-1]]\n",
    "    \n",
    "    # The lines connect the 'hidden' points constituting the shape\n",
    "    @staticmethod\n",
    "    def draw_lines(fig, x):\n",
    "        size = x.shape[-1]\n",
    "        for i in range(size):\n",
    "            i = (np.arange(2) + i)%size\n",
    "            fig.plot(x[0,i], x[1,i], linewidth=2, color='r')\n",
    "\n",
    "    def plot_figure(self, noise, x):\n",
    "        _, fig = plt.subplots(1, 1, figsize=self.figsize)\n",
    "        fig.scatter(*noise, color=self.color, alpha=self.a)\n",
    "        fig.scatter(*x, color=self.color, s=self.s)\n",
    "        if self.show_lines: self.draw_lines(fig, x)\n",
    "        fig.axis('off')\n",
    "        plt.show()"
   ]
  },
  {
   "cell_type": "code",
   "execution_count": 3,
   "id": "ed1b607b-c467-4c09-a2c2-b8003659bfe5",
   "metadata": {},
   "outputs": [
    {
     "data": {
      "application/vnd.jupyter.widget-view+json": {
       "model_id": "e4f5e485555c42b98c72f55d96012ba8",
       "version_major": 2,
       "version_minor": 0
      },
      "text/plain": [
       "Checkbox(value=False, description='Lines', indent=False)"
      ]
     },
     "metadata": {},
     "output_type": "display_data"
    },
    {
     "data": {
      "application/vnd.jupyter.widget-view+json": {
       "model_id": "db22dbc0a79c4bdbbd2f2d2d5d15fc82",
       "version_major": 2,
       "version_minor": 0
      },
      "text/plain": [
       "Output()"
      ]
     },
     "metadata": {},
     "output_type": "display_data"
    },
    {
     "data": {
      "application/vnd.jupyter.widget-view+json": {
       "model_id": "d96bc4e46dd9402f81ee5b984434d6d6",
       "version_major": 2,
       "version_minor": 0
      },
      "text/plain": [
       "HBox(children=(Button(description='Triangle', style=ButtonStyle()), Button(description='Rectangle', style=Butt…"
      ]
     },
     "metadata": {},
     "output_type": "display_data"
    }
   ],
   "source": [
    "buttons = [wd.Button(description=label) for label in [\"Triangle\", \"Rectangle\", \"Nothing\"]]\n",
    "lines = wd.Checkbox(description=\"Lines\", value=False, indent=False)\n",
    "output = wd.Output(layout={})\n",
    "display(lines, output, wd.HBox(buttons))\n",
    "sm = ShapeManager()\n",
    "\n",
    "with output:\n",
    "    sm.create_shape()\n",
    "\n",
    "def triangle_button_clicked(b):\n",
    "    with output:\n",
    "        clear_output()\n",
    "        sm.add_answer(Shape.TRIANGLE)\n",
    "        sm.create_shape()\n",
    "\n",
    "def rectangle_button_clicked(b):\n",
    "    with output:\n",
    "        clear_output()\n",
    "        sm.add_answer(Shape.RECTANGLE)\n",
    "        sm.create_shape()\n",
    "\n",
    "def nothing_button_clicked(b):\n",
    "    with output:\n",
    "        clear_output()\n",
    "        sm.add_answer(Shape.NOTHING)\n",
    "        sm.create_shape()\n",
    "        \n",
    "def line_switch(b):\n",
    "    sm.show_lines = lines.value\n",
    "        \n",
    "buttons[0].on_click(triangle_button_clicked)\n",
    "buttons[1].on_click(rectangle_button_clicked)\n",
    "buttons[2].on_click(nothing_button_clicked)\n",
    "lines.observe(line_switch)"
   ]
  },
  {
   "cell_type": "code",
   "execution_count": 4,
   "id": "81609a17-febf-42e0-a70e-19f266e0cceb",
   "metadata": {},
   "outputs": [
    {
     "name": "stdout",
     "output_type": "stream",
     "text": [
      "Accuracy: 0\n"
     ]
    }
   ],
   "source": [
    "print(f\"Accuracy: {sm.get_score()}\")\n",
    "\n",
    "num_of_incorrect = len(sm.incorrect)-1\n",
    "if num_of_incorrect:\n",
    "    _, axs = plt.subplots(num_of_incorrect, 2, figsize=(26, 10*num_of_incorrect))\n",
    "    axs = axs.reshape(-1, 2)\n",
    "    \n",
    "    for incorrect, ax in zip(sm.incorrect[:-1], axs[:,0]):\n",
    "        ax.scatter(*incorrect['noise'], color=sm.color, alpha=sm.a)\n",
    "        ax.scatter(*incorrect['fig'], color=sm.color, s=sm.s)\n",
    "        ax.axis('off')\n",
    "        ax.set_title('Guessed: {}'.format(incorrect['guess']), size=24)\n",
    "\n",
    "    for incorrect, ax in zip(sm.incorrect[:-1], axs[:,1]):\n",
    "        ax.scatter(*incorrect['noise'], color=sm.color, alpha=sm.a)\n",
    "        ax.scatter(*incorrect['fig'], color=sm.color, s=sm.s)\n",
    "        sm.draw_lines(ax, incorrect['fig'])\n",
    "        ax.axis('off')\n",
    "        ax.set_title('Real answer: {}'.format(incorrect['real']), size=24)\n",
    "\n",
    "    plt.show()"
   ]
  }
 ],
 "metadata": {
  "kernelspec": {
   "display_name": "Python 3 (ipykernel)",
   "language": "python",
   "name": "python3"
  },
  "language_info": {
   "codemirror_mode": {
    "name": "ipython",
    "version": 3
   },
   "file_extension": ".py",
   "mimetype": "text/x-python",
   "name": "python",
   "nbconvert_exporter": "python",
   "pygments_lexer": "ipython3",
   "version": "3.10.2"
  }
 },
 "nbformat": 4,
 "nbformat_minor": 5
}
