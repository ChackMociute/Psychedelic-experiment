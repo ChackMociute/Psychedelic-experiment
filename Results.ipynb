{
 "cells": [
  {
   "cell_type": "code",
   "execution_count": 1,
   "id": "2f49ce0a-a090-48d6-ac98-84c122dd7b55",
   "metadata": {},
   "outputs": [],
   "source": [
    "import numpy as np\n",
    "import pickle"
   ]
  },
  {
   "cell_type": "code",
   "execution_count": 2,
   "id": "945b013e-8fb0-412a-904a-b94e52a97f67",
   "metadata": {},
   "outputs": [],
   "source": [
    "path = 'results/object.pkl'"
   ]
  },
  {
   "cell_type": "code",
   "execution_count": 3,
   "id": "b086a8c0-c37f-4359-a2d2-ce5228fd42f5",
   "metadata": {},
   "outputs": [
    {
     "ename": "AttributeError",
     "evalue": "Can't get attribute 'Shape' on <module '__main__'>",
     "output_type": "error",
     "traceback": [
      "\u001b[1;31m---------------------------------------------------------------------------\u001b[0m",
      "\u001b[1;31mAttributeError\u001b[0m                            Traceback (most recent call last)",
      "Input \u001b[1;32mIn [3]\u001b[0m, in \u001b[0;36m<cell line: 2>\u001b[1;34m()\u001b[0m\n\u001b[0;32m      2\u001b[0m \u001b[38;5;28;01mwith\u001b[39;00m \u001b[38;5;28mopen\u001b[39m(path, \u001b[38;5;124m'\u001b[39m\u001b[38;5;124mrb\u001b[39m\u001b[38;5;124m'\u001b[39m) \u001b[38;5;28;01mas\u001b[39;00m inp:\n\u001b[0;32m      3\u001b[0m     objects\u001b[38;5;241m.\u001b[39mappend(pickle\u001b[38;5;241m.\u001b[39mload(inp))\n\u001b[1;32m----> 4\u001b[0m     objects\u001b[38;5;241m.\u001b[39mappend(\u001b[43mpickle\u001b[49m\u001b[38;5;241;43m.\u001b[39;49m\u001b[43mload\u001b[49m\u001b[43m(\u001b[49m\u001b[43minp\u001b[49m\u001b[43m)\u001b[49m)\n\u001b[0;32m      5\u001b[0m     objects\u001b[38;5;241m.\u001b[39mappend(pickle\u001b[38;5;241m.\u001b[39mload(inp))\n\u001b[0;32m      6\u001b[0m objects\n",
      "\u001b[1;31mAttributeError\u001b[0m: Can't get attribute 'Shape' on <module '__main__'>"
     ]
    }
   ],
   "source": [
    "objects = []\n",
    "with open(path, 'rb') as inp:\n",
    "    objects.append(pickle.load(inp))\n",
    "    objects.append(pickle.load(inp))\n",
    "    objects.append(pickle.load(inp))\n",
    "objects"
   ]
  }
 ],
 "metadata": {
  "kernelspec": {
   "display_name": "Python 3 (ipykernel)",
   "language": "python",
   "name": "python3"
  },
  "language_info": {
   "codemirror_mode": {
    "name": "ipython",
    "version": 3
   },
   "file_extension": ".py",
   "mimetype": "text/x-python",
   "name": "python",
   "nbconvert_exporter": "python",
   "pygments_lexer": "ipython3",
   "version": "3.10.2"
  }
 },
 "nbformat": 4,
 "nbformat_minor": 5
}
